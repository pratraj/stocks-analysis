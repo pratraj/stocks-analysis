{
 "cells": [
  {
   "cell_type": "code",
   "execution_count": 1,
   "id": "6067a66e-b839-440f-b209-98d63b674679",
   "metadata": {},
   "outputs": [],
   "source": [
    "import json\n",
    "# Top read configuration file\n",
    "import configparser\n",
    "# To access AV services\n",
    "import requests"
   ]
  },
  {
   "cell_type": "markdown",
   "id": "60c4383f-0e59-4740-a206-30bafbdbb0a5",
   "metadata": {},
   "source": [
    "## Initialize Configuration parser"
   ]
  },
  {
   "cell_type": "code",
   "execution_count": 2,
   "id": "984f6de6-6f7e-4200-937a-0b5f50506c50",
   "metadata": {},
   "outputs": [
    {
     "data": {
      "text/plain": [
       "['config/av_save_fin_reports.ini']"
      ]
     },
     "execution_count": 2,
     "metadata": {},
     "output_type": "execute_result"
    }
   ],
   "source": [
    "config = configparser.ConfigParser()\n",
    "config.read('config/av_save_fin_reports.ini')"
   ]
  },
  {
   "cell_type": "markdown",
   "id": "a87ec8ad-8eec-45e9-a5b4-61a54fcb0d1f",
   "metadata": {},
   "source": [
    "## Constants"
   ]
  },
  {
   "cell_type": "code",
   "execution_count": 3,
   "id": "1c91aba3-14d2-4334-bf90-3ffabc1944fe",
   "metadata": {},
   "outputs": [],
   "source": [
    "# API key is from the configuration file; you can directly initialize it here as well\n",
    "API_KEY = config['AV']['Key']\n",
    "BASE_URL = 'https://www.alphavantage.co/query?'\n",
    "SYMBOL = 'IOT'\n",
    "DATA_PATH = 'data'"
   ]
  },
  {
   "cell_type": "markdown",
   "id": "c33525e0-52a9-4767-a18e-2a3f9fbd1186",
   "metadata": {},
   "source": [
    "## Utility method to get data from AV¶"
   ]
  },
  {
   "cell_type": "code",
   "execution_count": 4,
   "id": "b8038014-f479-4b4a-b4cd-15419b24df55",
   "metadata": {},
   "outputs": [],
   "source": [
    "def get_response(function):\n",
    "    return requests.get(f'{BASE_URL}function={function}&symbol={SYMBOL}&apikey={API_KEY}')"
   ]
  },
  {
   "cell_type": "markdown",
   "id": "cc2c037b-b9b4-459c-b42d-b5783d64f68c",
   "metadata": {},
   "source": [
    "## Save Quarterly responses"
   ]
  },
  {
   "cell_type": "code",
   "execution_count": 5,
   "id": "d0bfdd5b-9a2b-4dbc-8410-cae6723a7eb2",
   "metadata": {},
   "outputs": [],
   "source": [
    "def save_qtrly_reports(report_type:str):\n",
    "    report = get_response(report_type).json()['quarterlyReports']\n",
    "    file_name = f'{DATA_PATH}/{SYMBOL}_{report_type}.json'\n",
    "    # Use a context manager to open the file and write the JSON data to it\n",
    "    with open(file_name, 'w') as file:\n",
    "        json.dump(report, file)\n",
    "    print('saved to {}'.format(file_name))"
   ]
  },
  {
   "cell_type": "markdown",
   "id": "47a97dff-3a86-4f8c-b966-83a8a526b783",
   "metadata": {},
   "source": [
    "## Save AV Quarterly Reports"
   ]
  },
  {
   "cell_type": "code",
   "execution_count": 6,
   "id": "f74a9425-4466-4a39-a90d-f7fd4ade4a27",
   "metadata": {},
   "outputs": [
    {
     "name": "stdout",
     "output_type": "stream",
     "text": [
      "saved to data/IOT_BALANCE_SHEET.json\n",
      "saved to data/IOT_INCOME_STATEMENT.json\n"
     ]
    }
   ],
   "source": [
    "save_qtrly_reports('BALANCE_SHEET')\n",
    "save_qtrly_reports('INCOME_STATEMENT')"
   ]
  }
 ],
 "metadata": {
  "kernelspec": {
   "display_name": "Python 3 (ipykernel)",
   "language": "python",
   "name": "python3"
  },
  "language_info": {
   "codemirror_mode": {
    "name": "ipython",
    "version": 3
   },
   "file_extension": ".py",
   "mimetype": "text/x-python",
   "name": "python",
   "nbconvert_exporter": "python",
   "pygments_lexer": "ipython3",
   "version": "3.11.6"
  }
 },
 "nbformat": 4,
 "nbformat_minor": 5
}
